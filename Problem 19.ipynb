{
 "cells": [
  {
   "cell_type": "markdown",
   "metadata": {},
   "source": [
    "### Problem 19\n",
    "Probability of a Hidden Path Problem\n",
    "\n",
    "Given: A hidden path π followed by the states States and transition matrix Transition of an HMM (Σ, States, Transition, Emission).\n",
    "\n",
    "Return: The probability of this path, Pr(π). You may assume that initial probabilities are equal."
   ]
  },
  {
   "cell_type": "code",
   "execution_count": 134,
   "metadata": {},
   "outputs": [],
   "source": [
    "import numpy as np\n",
    "import itertools\n",
    "class ProbHMM():\n",
    "     \"\"\"\n",
    "    A class to calculate the probability of a hidden marcov path\n",
    "\n",
    "    ...\n",
    "\n",
    "    Attributes\n",
    "    ----------\n",
    "    file : file\n",
    "        file name \n",
    "\n",
    "    Methods\n",
    "    -------\n",
    "    readHMM:\n",
    "        read file which store information of the HMM\n",
    "    probPath(path,state,transition):\n",
    "        calculate the prbability of getting such a hidden path\n",
    "    \"\"\"\n",
    "    def __init__(self, infile):\n",
    "        '''\n",
    "        contructor: saves attributes \n",
    "        \n",
    "        Parameters\n",
    "        ----------\n",
    "            infile : file name\n",
    "                \n",
    "        '''\n",
    "        self.file=infile\n",
    "    \n",
    "    def readHMM(self):\n",
    "        \"\"\"\n",
    "        read HMM file\n",
    "        \n",
    "        Return\n",
    "        ----------\n",
    "        path:str\n",
    "            the hidden path\n",
    "        state:list\n",
    "            all the states\n",
    "        transition.astype(float):ndarray\n",
    "            transition probability\n",
    "        \"\"\"\n",
    "        with open(self.file) as rawData:\n",
    "            data=rawData.readlines()\n",
    "        path=data[0].rstrip() #the first row is the path\n",
    "        state=data[2].rstrip().split('\\t') \n",
    "        probMatrix=data[6:] #from 5th line on, the rest is transition probability\n",
    "        transition=np.array([data[5].rstrip().split('\\t')[1:]])\n",
    "        for i in range(len(state)-1):\n",
    "            #we append the probability to the matrix\n",
    "            transition=np.append(transition,[probMatrix[i].rstrip().split('\\t')[1:]],axis=0)\n",
    "        return path,state,transition.astype(float)\n",
    "    \n",
    "    def probPath(self,path,state,transition):\n",
    "        \"\"\"\n",
    "        read HMM file\n",
    "        \n",
    "        Parameters\n",
    "        ----------\n",
    "            path:str\n",
    "                the hidden path\n",
    "            state:list\n",
    "                all the states\n",
    "            transition.astype(float):ndarray\n",
    "                transition probability\n",
    "        \n",
    "        Return\n",
    "        ----------\n",
    "        probability:float\n",
    "            the probability of the hidden path\n",
    "        \"\"\"\n",
    "        diState=list(map(''.join,itertools.product(''.join(state),repeat=2))) #we generate all the 2-mer states\n",
    "        probability=1/len(state) #probability:the overall prob of the path, now it is the initial prob\n",
    "        diStateProb={}#a dict that saves the probability of the transition probability\n",
    "        diStateCount={}#a dict that saves the count of diStates in the path\n",
    "        count=0 #save the number of how many diStates we have been processed\n",
    "        for i in range(len(state)):\n",
    "            for j in range(len(state)):\n",
    "                diStateProb[diState[count]]=transition[i,j] #extract data from the ndarray\n",
    "                count+=1 #we have processes one more diStates\n",
    "        for i in range(len(path)-1):\n",
    "            try: #if this diState has been in our dict\n",
    "                diStateCount[path[i:i+2]]+=1\n",
    "            except: #otherwise we assign 1 to this diState\n",
    "                diStateCount[path[i:i+2]]=1           \n",
    "        for i in diState: #calculate the probability\n",
    "            probability*=diStateProb[i]**diStateCount[i]\n",
    "        return probability"
   ]
  },
  {
   "cell_type": "markdown",
   "metadata": {},
   "source": [
    "### Main"
   ]
  },
  {
   "cell_type": "code",
   "execution_count": 135,
   "metadata": {},
   "outputs": [],
   "source": [
    "def main(infile):\n",
    "    '''\n",
    "    Get the probability of the path here\n",
    "    \n",
    "    Parameters\n",
    "        ----------\n",
    "        infile : str \n",
    "            the filename of the fasta file\n",
    "\n",
    "        Returns\n",
    "        -------\n",
    "        STDOUT\n",
    "    '''\n",
    "    hmm=ProbHMM(infile)#instantiation\n",
    "    path,state,transition=hmm.readHMM()#extract information from the infile\n",
    "    print(hmm.probPath(path,state,transition)) #print the prob of the path"
   ]
  },
  {
   "cell_type": "markdown",
   "metadata": {},
   "source": [
    "### Run the program here"
   ]
  },
  {
   "cell_type": "code",
   "execution_count": 138,
   "metadata": {},
   "outputs": [
    {
     "name": "stdout",
     "output_type": "stream",
     "text": [
      "3.9760184304989196e-18\n"
     ]
    }
   ],
   "source": [
    "if __name__ == \"__main__\":\n",
    "    main('rosalind_ba10a.txt')"
   ]
  }
 ],
 "metadata": {
  "kernelspec": {
   "display_name": "Python 3",
   "language": "python",
   "name": "python3"
  },
  "language_info": {
   "codemirror_mode": {
    "name": "ipython",
    "version": 3
   },
   "file_extension": ".py",
   "mimetype": "text/x-python",
   "name": "python",
   "nbconvert_exporter": "python",
   "pygments_lexer": "ipython3",
   "version": "3.8.5"
  }
 },
 "nbformat": 4,
 "nbformat_minor": 4
}
