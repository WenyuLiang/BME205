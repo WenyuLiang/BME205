{
 "cells": [
  {
   "cell_type": "markdown",
   "metadata": {},
   "source": [
    "### Problem 21\n",
    "Given: A string x, followed by the alphabet Σ from which x was constructed, followed by the states States, transition matrix Transition, and emission matrix Emission of an HMM (Σ, States, Transition, Emission).\n",
    "\n",
    "Return: A path that maximizes the (unconditional) probability Pr(x, π) over all possible paths π."
   ]
  },
  {
   "cell_type": "code",
   "execution_count": 2,
   "metadata": {},
   "outputs": [],
   "source": [
    "import numpy as np\n",
    "class ProbString():\n",
    "    def __init__(self, infile):\n",
    "        '''\n",
    "        contructor: saves attributes \n",
    "        \n",
    "        Parameters\n",
    "        ----------\n",
    "            infile : file name\n",
    "                \n",
    "        '''\n",
    "        self.file=infile\n",
    "    \n",
    "    def readHMM(self):\n",
    "        \"\"\"\n",
    "        read HMM file\n",
    "        \n",
    "        Return\n",
    "        ----------\n",
    "        String:list\n",
    "            the index of observable string the path emits\n",
    "        state:list\n",
    "            all the states\n",
    "        emission:\n",
    "            all the emission \n",
    "        transition.astype(float):ndarray\n",
    "            transition probability\n",
    "        emissionProb.astype(float):ndarray\n",
    "            emission matrix\n",
    "        \"\"\"\n",
    "        with open(self.file) as rawData:\n",
    "            data=rawData.readlines()\n",
    "        string=data[0].rstrip() #the first row is the obserable string\n",
    "        emission=data[2].rstrip().split('\\t') #emission list\n",
    "        state=data[4].rstrip().split('\\t') #state list\n",
    "        #-----------------------from 7th to 8+len(state)-1 is transition matrix----------------------#\n",
    "        transitionMatrix=data[8:8+len(state)-1] \n",
    "        transitionProb=np.array([data[7].rstrip().split('\\t')[1:]]) #the first row\n",
    "        for i in range(len(state)-1):\n",
    "            transitionProb=np.append(transitionProb,[transitionMatrix[i].rstrip().split('\\t')[1:]],axis=0)\n",
    "        #-----------------------from 7th to 8+len(state)-1 is transition matrix----------------------#\n",
    "        \n",
    "        #---------------------from 5th line on, the rest is emission probability----------------------#\n",
    "        probMatrix=data[10+len(state):] \n",
    "        emissionProb=np.array([data[9+len(state)].rstrip().split('\\t')[1:]]) #emission probability starts from here\n",
    "        for i in range(len(state)-1):\n",
    "            #we append the probability to the matrix\n",
    "            emissionProb=np.append(emissionProb,[probMatrix[i].rstrip().split('\\t')[1:]],axis=0) \n",
    "        #---------------------from 5th line on, the rest is emission probability----------------------#\n",
    "        String=[] #stores the index of the observe\n",
    "        for i in string:\n",
    "            String.append(emission.index(i)) #we can now use the index to access emission matrix\n",
    "        return String,state,emission,transitionProb.astype(float),emissionProb.astype(float)\n",
    "    \n",
    "    def Vertibi(self,string,state,emission,transitionProb,emissionProb):\n",
    "        \"\"\"\n",
    "        Calculate the maximal probability Pr(x) that the HMM emits x.\n",
    "        \n",
    "        Parameters\n",
    "        ----------\n",
    "        string:list\n",
    "            the index of observable string the path emits\n",
    "        state:list\n",
    "            all the states\n",
    "        emission:\n",
    "            all the emission \n",
    "        transitionProb:ndarray\n",
    "            transition probability\n",
    "        emissionProb:ndarray\n",
    "            emission matrix\n",
    "            \n",
    "        Returns\n",
    "        ----------\n",
    "        hiddenPath:str\n",
    "            the most likely hidden path that emits x.\n",
    "        \"\"\"\n",
    "        vertibiGraph=np.empty([len(state), len(string)]) #create an empty matrix to store the node\n",
    "        vertibiGraph[:,0]=np.multiply(1/len(state),np.array(emissionProb[:,string[0]]))#calcalte the fisrt column\n",
    "        stateMatrix=np.zeros((len(state), len(string)-1)).astype(np.int32) #stateMatrix is for backtracking\n",
    "        for col in range(1,len(string)):\n",
    "            for row in range(len(state)):\n",
    "                temp=np.multiply(vertibiGraph[:,col-1],transitionProb[:,row]) #temp for get the max\n",
    "                vertibiGraph[row,col]=np.max(temp)*emissionProb[row,string[col]] #times the emission prob\n",
    "                #the element of vertibiGraph[row,col-1] tells us which precursor leads to biggest vertibiGraph[row,col]\n",
    "                stateMatrix[row,col-1]=np.argmax(temp) #stateMatrix[row,col-1] stores the index of max incoming node \n",
    "        #----------------------------------------Backtracking--------------------------------------#\n",
    "        path = np.zeros(len(string)).astype(np.int32)\n",
    "        path[-1] = np.argmax(vertibiGraph[:, -1]) #the last one is the index of max of the last column \n",
    "        for n in range(len(string)-2, -1, -1):#reverse the order\n",
    "            path[n] = stateMatrix[int(path[n+1]), n]\n",
    "        hiddenPath='' #now we add the state to the path\n",
    "        for i in path:\n",
    "            hiddenPath+=state[i]\n",
    "        #----------------------------------------Backtracking--------------------------------------#\n",
    "        return hiddenPath"
   ]
  },
  {
   "cell_type": "markdown",
   "metadata": {},
   "source": [
    "### Main"
   ]
  },
  {
   "cell_type": "code",
   "execution_count": 3,
   "metadata": {},
   "outputs": [],
   "source": [
    "def main(infile):\n",
    "    '''\n",
    "    Get the probability of the path here\n",
    "    \n",
    "    Parameters\n",
    "        ----------\n",
    "        infile : str \n",
    "            the filename \n",
    "\n",
    "        Returns\n",
    "        -------\n",
    "        STDOUT\n",
    "    '''\n",
    "    hmm=ProbString(infile) #instantiation\n",
    "    string,state,emission,transitionProb,emissionProb=hmm.readHMM() #extract the information from the infile\n",
    "    print(hmm.Vertibi(string,state,emission,transitionProb,emissionProb)) #print the hidden path"
   ]
  },
  {
   "cell_type": "markdown",
   "metadata": {},
   "source": [
    "### Run the program here"
   ]
  },
  {
   "cell_type": "code",
   "execution_count": 4,
   "metadata": {},
   "outputs": [
    {
     "name": "stdout",
     "output_type": "stream",
     "text": [
      "CCCCCCCBAACBACBACCCCBACCCBAACCCCCBACBAACBAAAAACBAAACCBAAAAACCBAAACBAACBACBAAACCCCCCBBAAAAAAAAACCCBAC\n"
     ]
    }
   ],
   "source": [
    "if __name__ == \"__main__\":\n",
    "    main('rosalind_ba10c.txt')"
   ]
  }
 ],
 "metadata": {
  "kernelspec": {
   "display_name": "Python 3",
   "language": "python",
   "name": "python3"
  },
  "language_info": {
   "codemirror_mode": {
    "name": "ipython",
    "version": 3
   },
   "file_extension": ".py",
   "mimetype": "text/x-python",
   "name": "python",
   "nbconvert_exporter": "python",
   "pygments_lexer": "ipython3",
   "version": "3.8.5"
  }
 },
 "nbformat": 4,
 "nbformat_minor": 4
}
