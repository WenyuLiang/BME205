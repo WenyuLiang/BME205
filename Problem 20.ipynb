{
 "cells": [
  {
   "cell_type": "markdown",
   "metadata": {},
   "source": [
    "### Problem 20\n",
    "Probability of an Outcome Given a Hidden Path Problem\n",
    "\n",
    "Given: A string x, followed by the alphabet Σ from which x was constructed, followed by a hidden path π, followed by the states States and emission matrix Emission of an HMM (Σ, States, Transition, Emission).\n",
    "\n",
    "Return: The conditional probability Pr(x|π) that string x will be emitted by the HMM given the hidden path π."
   ]
  },
  {
   "cell_type": "code",
   "execution_count": 17,
   "metadata": {},
   "outputs": [],
   "source": [
    "import numpy as np\n",
    "class ProbString():\n",
    "    def __init__(self, infile):\n",
    "        '''\n",
    "        contructor: saves attributes \n",
    "        \n",
    "        Parameters\n",
    "        ----------\n",
    "            infile : file name\n",
    "                \n",
    "        '''\n",
    "        self.file=infile\n",
    "    \n",
    "    def readHMM(self):\n",
    "        \"\"\"\n",
    "        read HMM file\n",
    "        \n",
    "        Return\n",
    "        ----------\n",
    "        string:str\n",
    "            the observable string the path emits\n",
    "        path:str\n",
    "            the hidden path\n",
    "        state:list\n",
    "            all the states\n",
    "        emission:\n",
    "            all the emission \n",
    "        transition.astype(float):ndarray\n",
    "            transition probability\n",
    "        \"\"\"\n",
    "        with open(self.file) as rawData:\n",
    "            data=rawData.readlines()\n",
    "        string=data[0].rstrip() #the first row is the obserable string\n",
    "        path=data[4].rstrip() #the 5th row is the obserable string\n",
    "        emission=data[2].rstrip().split('\\t') #emission list\n",
    "        state=data[6].rstrip().split('\\t') #state list\n",
    "        probMatrix=data[10:] #from 5th line on, the rest is transition probability\n",
    "        emissionProb=np.array([data[9].rstrip().split('\\t')[1:]]) #emission probability starts from here\n",
    "        for i in range(len(state)-1):\n",
    "            #we append the probability to the matrix\n",
    "            emissionProb=np.append(emissionProb,[probMatrix[i].rstrip().split('\\t')[1:]],axis=0)\n",
    "        return string,path,state,emission,emissionProb.astype(float)\n",
    "    \n",
    "    def probString(self,string,path,state,emission,emissionProb):\n",
    "        \"\"\"\n",
    "        Calculate the conditional probability of the string given the hidden path\n",
    "        \n",
    "        Parameters\n",
    "        ----------\n",
    "        string:str\n",
    "            the observable string the path emits\n",
    "        path:str\n",
    "            the hidden path\n",
    "        state:list\n",
    "            all the states\n",
    "        emission:\n",
    "            all the emission \n",
    "        transition.astype(float):ndarray\n",
    "            transition probability\n",
    "            \n",
    "        Return\n",
    "        ----------\n",
    "        prob:float\n",
    "            the probability of the string\n",
    "        \"\"\"\n",
    "        prob=1 #initialize the overall probability\n",
    "        for i in range(len(string)):\n",
    "            emissionIndex=emission.index(string[i]) #will be the row index of the numpy array\n",
    "            stateIndex=state.index(path[i])#will be the column index of the numpy array\n",
    "            prob*=emissionProb[stateIndex,emissionIndex] #exact the emission prob from the np array\n",
    "        return prob"
   ]
  },
  {
   "cell_type": "markdown",
   "metadata": {},
   "source": [
    "### Main"
   ]
  },
  {
   "cell_type": "code",
   "execution_count": 18,
   "metadata": {},
   "outputs": [],
   "source": [
    "def main(infile):\n",
    "    '''\n",
    "    Get the probability of the path here\n",
    "    \n",
    "    Parameters\n",
    "        ----------\n",
    "        infile : str \n",
    "            the filename of the fasta file\n",
    "\n",
    "        Returns\n",
    "        -------\n",
    "        STDOUT\n",
    "    '''\n",
    "    hmm=ProbString(infile) #instantiation\n",
    "    string,path,state,emission,emissionProb=hmm.readHMM() #extract information from the infile\n",
    "    print(hmm.probString(string,path,state,emission,emissionProb))\n"
   ]
  },
  {
   "cell_type": "markdown",
   "metadata": {},
   "source": [
    "### Run the program here"
   ]
  },
  {
   "cell_type": "code",
   "execution_count": 19,
   "metadata": {},
   "outputs": [
    {
     "name": "stdout",
     "output_type": "stream",
     "text": [
      "2.2502074775148954e-30\n"
     ]
    }
   ],
   "source": [
    "if __name__==\"__main__\":\n",
    "    main('rosalind_ba10b.txt')"
   ]
  }
 ],
 "metadata": {
  "kernelspec": {
   "display_name": "Python 3",
   "language": "python",
   "name": "python3"
  },
  "language_info": {
   "codemirror_mode": {
    "name": "ipython",
    "version": 3
   },
   "file_extension": ".py",
   "mimetype": "text/x-python",
   "name": "python",
   "nbconvert_exporter": "python",
   "pygments_lexer": "ipython3",
   "version": "3.8.5"
  }
 },
 "nbformat": 4,
 "nbformat_minor": 4
}
